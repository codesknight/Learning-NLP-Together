{
 "cells": [
  {
   "cell_type": "markdown",
   "metadata": {},
   "source": [
    ".ipynb->.md"
   ]
  },
  {
   "cell_type": "code",
   "execution_count": 1,
   "metadata": {},
   "outputs": [
    {
     "name": "stdout",
     "output_type": "stream",
     "text": [
      "转换完成，Markdown文件已保存至：D:\\Learning NLP Together\\P0-Fundamentals and Neural Network Reasoning.md\n"
     ]
    }
   ],
   "source": [
    "from nbconvert import MarkdownExporter\n",
    "from nbformat import read\n",
    "import os\n",
    " \n",
    "# 指定Jupyter Notebook文件的完整路径\n",
    "input_notebook_path = r\"D:\\Learning NLP Together\\P0-Fundamentals and Neural Network Reasoning.ipynb\"\n",
    " \n",
    "# 指定输出Markdown文件的路径\n",
    "# 注意：这里假设Markdown文件保存在同一目录下，且文件名与原Notebook相同，只是扩展名不同\n",
    "output_markdown_path = os.path.splitext(input_notebook_path)[0] + \".md\"\n",
    " \n",
    "# 读取Notebook文件内容\n",
    "with open(input_notebook_path, 'r', encoding='utf-8') as f:\n",
    "    notebook = read(f, as_version=4)\n",
    " \n",
    "# 创建Markdown导出器实例\n",
    "exporter = MarkdownExporter()\n",
    " \n",
    "# 导出Notebook为Markdown格式\n",
    "markdown_content, resources = exporter.from_notebook_node(notebook)\n",
    " \n",
    "# 将Markdown内容写入文件\n",
    "with open(output_markdown_path, 'w', encoding='utf-8') as md_file:\n",
    "    md_file.write(markdown_content)\n",
    " \n",
    "print(f\"转换完成，Markdown文件已保存至：{output_markdown_path}\")"
   ]
  }
 ],
 "metadata": {
  "kernelspec": {
   "display_name": "tf2_3",
   "language": "python",
   "name": "python3"
  },
  "language_info": {
   "codemirror_mode": {
    "name": "ipython",
    "version": 3
   },
   "file_extension": ".py",
   "mimetype": "text/x-python",
   "name": "python",
   "nbconvert_exporter": "python",
   "pygments_lexer": "ipython3",
   "version": "3.7.16"
  }
 },
 "nbformat": 4,
 "nbformat_minor": 2
}
